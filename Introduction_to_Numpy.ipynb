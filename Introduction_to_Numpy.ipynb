{
 "cells": [
  {
   "cell_type": "markdown",
   "metadata": {
    "id": "NE1JCNKLBqB-"
   },
   "source": [
    "# **Introduction to Numpy**\n",
    "\n",
    "## **Stat 112 - Recitation 6**\n",
    "\n",
    "> Ozancan Ozdemir - ozancan@metu.edu.tr\n",
    "\n",
    "This document is created using the following sources. \n",
    "\n",
    "[CS231-Stanford University](https://cs231n.github.io/python-numpy-tutorial/#numpy)\n",
    "\n",
    "[NumPy](https://numpy.org/)\n",
    "\n",
    "[Jay Alamar's Blog](http://jalammar.github.io/visual-numpy/)\n"
   ]
  },
  {
   "cell_type": "markdown",
   "metadata": {
    "id": "HT5Zh7Ea0J2A"
   },
   "source": [
    "<p><img alt=\"Colaboratory logo\" height=\"45px\" src=\"https://upload.wikimedia.org/wikipedia/commons/thumb/c/c3/Python-logo-notext.svg/1869px-Python-logo-notext.svg.png\" align=\"left\" hspace=\"10px\" vspace=\"0px\"></p>\n",
    "\n",
    "# Introduction\n",
    "\n"
   ]
  },
  {
   "cell_type": "markdown",
   "metadata": {
    "id": "FXqiMtn_w2xW"
   },
   "source": [
    " \n",
    "Python is a great general-purpose programming language on its own, but with the help of a few popular libraries (numpy, scipy, matplotlib) it becomes a powerful environment for scientific computing.\n",
    "\n",
    "**A Brief Note on Python Versions**\n",
    "\n",
    "As of Janurary 1, 2020, Python has [officially dropped support](https://www.python.org/doc/sunset-python-2/) for `python2`. We'll be using Python 3.7 for this iteration of the course. In Colab, we can enforce the Python version by clicking `Runtime -> Change Runtime Type` and selecting `python3`.  Colab uses Python 3.7.15 which should run everything without any errors."
   ]
  },
  {
   "cell_type": "code",
   "execution_count": 1,
   "metadata": {
    "colab": {
     "base_uri": "https://localhost:8080/"
    },
    "id": "VglWeuSamOru",
    "outputId": "ccceecbb-2e70-4707-9aa4-35e25cb64085"
   },
   "outputs": [
    {
     "name": "stdout",
     "output_type": "stream",
     "text": [
      "3.9.12 (main, Apr  4 2022, 05:22:27) [MSC v.1916 64 bit (AMD64)]\n"
     ]
    }
   ],
   "source": [
    "import sys\n",
    "print(sys.version)"
   ]
  },
  {
   "cell_type": "markdown",
   "metadata": {
    "id": "Vr9EFEQFxNjF"
   },
   "source": [
    "<p><img alt=\"Colaboratory logo\" height=\"45px\" src=\"https://colab.research.google.com/img/colab_favicon.ico\" align=\"left\" hspace=\"10px\" vspace=\"0px\"></p>\n",
    "\n",
    "## Google Colab \n"
   ]
  },
  {
   "cell_type": "markdown",
   "metadata": {
    "id": "5fCEDCU_qrC0"
   },
   "source": [
    "Colaboratory is a free Jupyter notebook environment that requires no setup and runs entirely in the cloud. With Colaboratory you can write and execute code, save and share your analyses, and access powerful computing resources, all for free from your browser.\n",
    "\n",
    "You can see several guide about Google Colab for beginners. \n",
    "\n",
    "- [Overview of Colaboratory](/notebooks/basic_features_overview.ipynb)\n",
    "- [Guide to Markdown](/notebooks/markdown_guide.ipynb)\n",
    "- [Importing libraries and installing dependencies](/notebooks/snippets/importing_libraries.ipynb)\n",
    "- [Saving and loading notebooks in GitHub](https://colab.research.google.com/github/googlecolab/colabtools/blob/master/notebooks/colab-github-demo.ipynb)\n",
    "- [Interactive forms](/notebooks/forms.ipynb)\n",
    "- [Interactive widgets](/notebooks/widgets.ipynb)"
   ]
  },
  {
   "cell_type": "markdown",
   "metadata": {
    "id": "ku8Y24A6wtEg"
   },
   "source": [
    "<p><img alt=\"Numpy logo\" height=\"45px\" src=\"data:image/png;base64,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\" align=\"left\" hspace=\"10px\" vspace=\"0px\"></p>\n",
    "\n",
    "## Introduction to Numpy "
   ]
  },
  {
   "cell_type": "markdown",
   "metadata": {
    "id": "KMvEhFKB1c1u"
   },
   "source": [
    "NumPy (Numerical Python) is an open source Python library that’s used in almost every field of science and engineering. It’s the universal standard for working with numerical data in Python, and it’s at the core of the scientific Python and PyData ecosystems. NumPy users include everyone from beginning coders to experienced researchers doing state-of-the-art scientific and industrial research and development. The NumPy API is used extensively in Pandas, SciPy, Matplotlib, scikit-learn, scikit-image and most other data science and scientific Python packages.\n",
    "\n",
    "The NumPy library contains multidimensional array and matrix data structures (you’ll find more information about this in later sections). It provides ndarray, a homogeneous n-dimensional array object, with methods to efficiently operate on it. NumPy can be used to perform a wide variety of mathematical operations on arrays. It adds powerful data structures to Python that guarantee efficient calculations with arrays and matrices and it supplies an enormous library of high-level mathematical functions that operate on these arrays and matrices.\n",
    "\n",
    "To use Numpy, we first need to import the numpy package:"
   ]
  },
  {
   "cell_type": "code",
   "execution_count": 2,
   "metadata": {
    "id": "RboYzLNzwlKA"
   },
   "outputs": [],
   "source": [
    "import numpy as np # import the numpy package"
   ]
  },
  {
   "cell_type": "markdown",
   "metadata": {
    "id": "n7FcMDRF2h00"
   },
   "source": [
    "We shorten the imported name to np for better readability of code using NumPy. This is a widely adopted convention that you should follow so that anyone working with your code can easily understand it."
   ]
  },
  {
   "cell_type": "markdown",
   "metadata": {
    "id": "pxpsRA6WDwa_"
   },
   "source": [
    "A numpy array is a grid of values, all of the same type, and is indexed by a tuple of nonnegative integers. The number of dimensions is the rank of the array; the shape of an array is a tuple of integers giving the size of the array along each dimension.\n",
    "\n",
    "We can create a `numpy` array by passing a Python list to `np.array()`. Note that NumPy’s array class is called `ndarray`. "
   ]
  },
  {
   "cell_type": "code",
   "execution_count": 3,
   "metadata": {
    "id": "vMXPTEXw2inc"
   },
   "outputs": [],
   "source": [
    "a = np.array([1, 2, 3])  # Create a rank 1 array (1D array)"
   ]
  },
  {
   "cell_type": "markdown",
   "metadata": {
    "id": "t-7fh7FqEZs0"
   },
   "source": [
    "This creates the array we can see on the right here:\n",
    "\n",
    "![](http://jalammar.github.io/images/numpy/create-numpy-array-1.png)"
   ]
  },
  {
   "cell_type": "code",
   "execution_count": 4,
   "metadata": {
    "colab": {
     "base_uri": "https://localhost:8080/"
    },
    "id": "EkOQmc_nETV0",
    "outputId": "92c316b6-63c1-4c45-cb78-9c330ec53bb5"
   },
   "outputs": [
    {
     "name": "stdout",
     "output_type": "stream",
     "text": [
      "<class 'numpy.ndarray'> (3,) 1 2 3\n",
      "[5 2 3]\n"
     ]
    }
   ],
   "source": [
    "print(type(a), a.shape, a[0], a[1], a[2])\n",
    "a[0] = 5                 # Change an element of the array\n",
    "print(a) "
   ]
  },
  {
   "cell_type": "markdown",
   "metadata": {
    "id": "A1m4CcMUBo1C"
   },
   "source": [
    "To create a `numpy` array with more dimensions, we can pass nested\n",
    "lists, like this:\n",
    "\n",
    "![](http://jalammar.github.io/images/numpy/numpy-array-create-2d.png)\n",
    "\n",
    "![](http://jalammar.github.io/images/numpy/numpy-3d-array.png)"
   ]
  },
  {
   "cell_type": "code",
   "execution_count": 5,
   "metadata": {
    "colab": {
     "base_uri": "https://localhost:8080/"
    },
    "id": "1Qn2rq8AEuzL",
    "outputId": "b055020b-a494-4de6-9914-23a69fa48351"
   },
   "outputs": [
    {
     "name": "stdout",
     "output_type": "stream",
     "text": [
      "[[1 2]\n",
      " [3 4]]\n"
     ]
    }
   ],
   "source": [
    "b = np.array([[1,2],[3,4]])   # Create a rank 2 array\n",
    "print(b)"
   ]
  },
  {
   "cell_type": "markdown",
   "metadata": {
    "id": "3zJRiTLaImUO"
   },
   "source": [
    "### The Attributes of Array Objects in Numpy"
   ]
  },
  {
   "cell_type": "code",
   "execution_count": 6,
   "metadata": {
    "colab": {
     "base_uri": "https://localhost:8080/"
    },
    "id": "HeS4bBRUFksS",
    "outputId": "c2fa2caf-983b-4a3b-d2b9-851cba5c628d"
   },
   "outputs": [
    {
     "name": "stdout",
     "output_type": "stream",
     "text": [
      "2\n"
     ]
    }
   ],
   "source": [
    "#ndarray.function\n",
    "print(b.ndim) #the number of axes"
   ]
  },
  {
   "cell_type": "code",
   "execution_count": 7,
   "metadata": {
    "colab": {
     "base_uri": "https://localhost:8080/"
    },
    "id": "Cb87NsvNEwZR",
    "outputId": "2164ac8f-e032-48c8-9bf9-9ef03e1dc65d"
   },
   "outputs": [
    {
     "name": "stdout",
     "output_type": "stream",
     "text": [
      "(2, 2)\n"
     ]
    }
   ],
   "source": [
    "print(b.shape) #the number of axes. it is a tuple of integers indicating the size of the array in each dimension"
   ]
  },
  {
   "cell_type": "code",
   "execution_count": 8,
   "metadata": {
    "colab": {
     "base_uri": "https://localhost:8080/"
    },
    "id": "3CeuCSqOFk8Z",
    "outputId": "348c0c02-7226-44d5-a85b-3466e4d17c06"
   },
   "outputs": [
    {
     "name": "stdout",
     "output_type": "stream",
     "text": [
      "4\n"
     ]
    }
   ],
   "source": [
    "print(b.size) #total number of elements in the array"
   ]
  },
  {
   "cell_type": "code",
   "execution_count": 9,
   "metadata": {
    "colab": {
     "base_uri": "https://localhost:8080/"
    },
    "id": "ktAd33LhI3Zy",
    "outputId": "c52f2056-cf55-48f6-e147-5eb75e245fa7"
   },
   "outputs": [
    {
     "name": "stdout",
     "output_type": "stream",
     "text": [
      "int32\n"
     ]
    }
   ],
   "source": [
    "print(b.dtype)"
   ]
  },
  {
   "cell_type": "markdown",
   "metadata": {
    "id": "VwUmKtZyMIWg"
   },
   "source": [
    "#### Exercise 3 \n",
    "\n",
    "Create a 2*3 array whose entries are \n",
    "\n",
    "1,2,0\n",
    "\n",
    "0,4,0.\n",
    "\n",
    "**Answer:**"
   ]
  },
  {
   "cell_type": "code",
   "execution_count": null,
   "metadata": {
    "colab": {
     "base_uri": "https://localhost:8080/"
    },
    "id": "sZZVOvP_MbpO",
    "outputId": "cde0c6fc-1c34-4b25-eded-c847842ef0bc"
   },
   "outputs": [],
   "source": []
  },
  {
   "cell_type": "markdown",
   "metadata": {
    "id": "-3eGoOotXD6p"
   },
   "source": [
    "### Creating Special Arrays"
   ]
  },
  {
   "cell_type": "markdown",
   "metadata": {
    "id": "Kevj1xA-E1D_"
   },
   "source": [
    "There are often cases when we want numpy to initialize the values of the\n",
    "array for us. numpy provides methods like `ones()`, `zeros()`, and\n",
    "`random.random()` for these cases. We just pass them the number of\n",
    "elements we want it to generate:\n",
    "\n",
    "![](http://jalammar.github.io/images/numpy/create-numpy-array-ones-zeros-random.png)"
   ]
  },
  {
   "cell_type": "markdown",
   "metadata": {
    "id": "V8EVNHN_E6JV"
   },
   "source": [
    "We can also use these methods to produce multi-dimensional arrays, as\n",
    "long as we pass them a tuple describing the dimensions of the matrix we\n",
    "want to create:\n",
    "\n",
    "![](http://jalammar.github.io/images/numpy/numpy-matrix-ones-zeros-random.png)\n",
    "\n",
    "![](http://jalammar.github.io/images/numpy/numpy-3d-array-creation.png)"
   ]
  },
  {
   "cell_type": "markdown",
   "metadata": {
    "id": "PpThFxsFE9a_"
   },
   "source": [
    "Sometimes, we need an array of a specific shape with “placeholder”\n",
    "values that we plan to fill in with the result of a computation. The\n",
    "`zeros` or `ones` functions are handy for this:"
   ]
  },
  {
   "cell_type": "code",
   "execution_count": 10,
   "metadata": {
    "colab": {
     "base_uri": "https://localhost:8080/"
    },
    "id": "Y4zpyGFhE0d6",
    "outputId": "b8b3cad1-e6db-4c32-abc0-18ac7a702918"
   },
   "outputs": [
    {
     "name": "stdout",
     "output_type": "stream",
     "text": [
      "[[0. 0.]\n",
      " [0. 0.]]\n"
     ]
    }
   ],
   "source": [
    "a = np.zeros((2,2))  # Create an array of all zeros\n",
    "print(a)"
   ]
  },
  {
   "cell_type": "code",
   "execution_count": 11,
   "metadata": {
    "colab": {
     "base_uri": "https://localhost:8080/"
    },
    "id": "DlrtQ3xYFB2c",
    "outputId": "b8123377-39f0-4a59-db6b-677f99b7d5b5"
   },
   "outputs": [
    {
     "name": "stdout",
     "output_type": "stream",
     "text": [
      "[[1. 1.]]\n"
     ]
    }
   ],
   "source": [
    "b = np.ones((1,2))   # Create an array of all ones\n",
    "print(b)"
   ]
  },
  {
   "cell_type": "code",
   "execution_count": 12,
   "metadata": {
    "colab": {
     "base_uri": "https://localhost:8080/"
    },
    "id": "JweBfrj7FFdZ",
    "outputId": "6599ca7d-5ab2-4e83-f27a-ffabb45bbf2c"
   },
   "outputs": [
    {
     "name": "stdout",
     "output_type": "stream",
     "text": [
      "[[7 7]\n",
      " [7 7]]\n"
     ]
    }
   ],
   "source": [
    "c = np.full((2,2), 7) # Create a constant array\n",
    "print(c)"
   ]
  },
  {
   "cell_type": "code",
   "execution_count": 13,
   "metadata": {
    "colab": {
     "base_uri": "https://localhost:8080/"
    },
    "id": "_V7ttSySFGyY",
    "outputId": "d81bed4f-5a9e-489f-9a7a-275bf44bf7a9"
   },
   "outputs": [
    {
     "name": "stdout",
     "output_type": "stream",
     "text": [
      "[[1. 0.]\n",
      " [0. 1.]]\n"
     ]
    }
   ],
   "source": [
    "d = np.eye(2)        # Create a 2x2 identity matrix\n",
    "print(d)"
   ]
  },
  {
   "cell_type": "code",
   "execution_count": 14,
   "metadata": {
    "colab": {
     "base_uri": "https://localhost:8080/"
    },
    "id": "IBWopbBtFIBH",
    "outputId": "dfc44443-45bb-4905-cffe-1a0e94436c48"
   },
   "outputs": [
    {
     "name": "stdout",
     "output_type": "stream",
     "text": [
      "[[0.01421592 0.22729519]\n",
      " [0.49868066 0.19775811]]\n"
     ]
    }
   ],
   "source": [
    "e = np.random.random((2,2)) # Create an array filled with random values\n",
    "print(e)"
   ]
  },
  {
   "cell_type": "markdown",
   "metadata": {
    "id": "44z4pIfYMtbd"
   },
   "source": [
    "#### Exercise 4 \n",
    "\n",
    "a) Create a null vector of size 10 but the fifth value which is 1\n",
    "\n",
    "**Answer:**"
   ]
  },
  {
   "cell_type": "code",
   "execution_count": null,
   "metadata": {
    "colab": {
     "base_uri": "https://localhost:8080/"
    },
    "id": "ZyA6fgeOO8wK",
    "outputId": "c843bd3c-f864-4a0b-8557-cbaedf1d3a4f"
   },
   "outputs": [],
   "source": []
  },
  {
   "cell_type": "markdown",
   "metadata": {
    "id": "ySbcbde-M4UJ"
   },
   "source": [
    "b) Create a 3x3 identity matrix\n",
    "\n",
    "**Answer:**"
   ]
  },
  {
   "cell_type": "code",
   "execution_count": null,
   "metadata": {
    "colab": {
     "base_uri": "https://localhost:8080/"
    },
    "id": "51wTh8kRM_mv",
    "outputId": "7dc23c4e-6ea2-4be2-ea89-2b68394fa220"
   },
   "outputs": [],
   "source": []
  },
  {
   "cell_type": "markdown",
   "metadata": {
    "id": "-EJRSKfIM_4_"
   },
   "source": [
    "c) Create a 3x3x3 array with random values\n",
    "\n",
    "**Answer:**"
   ]
  },
  {
   "cell_type": "code",
   "execution_count": null,
   "metadata": {
    "colab": {
     "base_uri": "https://localhost:8080/"
    },
    "id": "cBDcHtpZNED_",
    "outputId": "f84da085-e6fa-4b83-9e5c-b3368ad1f02b"
   },
   "outputs": [],
   "source": []
  },
  {
   "cell_type": "markdown",
   "metadata": {
    "id": "ccsml3bjFSC3"
   },
   "source": [
    "I want to mention two very useful functions for creating\n",
    "sequences of numbers within a specified range, namely, arange and\n",
    "linspace. NumPy’s arange function follows the same syntax as Python’s\n",
    "range objects: If two arguments are provided, the first argument\n",
    "represents the start value and the second value defines the stop value\n",
    "of a half-open interval:\n",
    "\n",
    "Numpy also has two useful functions for creating sequences of numbers:\n",
    "`arange` and `linspace`.\n",
    "\n",
    "The `arange` function accepts three arguments, which define the start\n",
    "value, stop value of a half-open interval, and step size. (The default\n",
    "step size, if not explicitly specified, is 1; the default start value,\n",
    "if not explicitly specified, is 0.)\n",
    "\n",
    "The `linspace` function is similar, but we can specify the number of\n",
    "values instead of the step size, and it will create a sequence of evenly\n",
    "spaced values."
   ]
  },
  {
   "cell_type": "code",
   "execution_count": 15,
   "metadata": {
    "colab": {
     "base_uri": "https://localhost:8080/"
    },
    "id": "WP9PvngNFW8P",
    "outputId": "f9aff060-7c44-4b63-8677-8bbc052f7f08"
   },
   "outputs": [
    {
     "name": "stdout",
     "output_type": "stream",
     "text": [
      "[10 15 20 25 30 35 40 45]\n"
     ]
    }
   ],
   "source": [
    "f = np.arange(10,50,5)   # Create an array of values starting at 10 in increments of 5\n",
    "print(f)"
   ]
  },
  {
   "cell_type": "markdown",
   "metadata": {
    "id": "suXogXEYFZId"
   },
   "source": [
    "Note this ends on 45, not 50 (does not include the top end of the interval)."
   ]
  },
  {
   "cell_type": "code",
   "execution_count": 16,
   "metadata": {
    "colab": {
     "base_uri": "https://localhost:8080/"
    },
    "id": "opC8U7UkFXas",
    "outputId": "b2bf846c-f418-43c5-92e6-593066374017"
   },
   "outputs": [
    {
     "name": "stdout",
     "output_type": "stream",
     "text": [
      "[0.   0.25 0.5  0.75 1.  ]\n"
     ]
    }
   ],
   "source": [
    "g = np.linspace(0., 1., num=5)\n",
    "print(g)"
   ]
  },
  {
   "cell_type": "markdown",
   "metadata": {
    "id": "09E5GwCuNKV4"
   },
   "source": [
    "#### Exercise 5 \n",
    "\n",
    "a) Create a vector with values ranging from 10 to 49\n",
    "\n",
    "**Answer:**"
   ]
  },
  {
   "cell_type": "code",
   "execution_count": null,
   "metadata": {
    "colab": {
     "base_uri": "https://localhost:8080/"
    },
    "id": "YmxS-bk2OF2a",
    "outputId": "0c58d528-1bed-4dd4-e1dd-408a4e35ddba"
   },
   "outputs": [],
   "source": []
  },
  {
   "cell_type": "markdown",
   "metadata": {
    "id": "p_5LMHPUOGZL"
   },
   "source": [
    "b) Create a vector that has 5 elements between 10 and 50\n",
    "\n",
    "**Answer:**"
   ]
  },
  {
   "cell_type": "code",
   "execution_count": null,
   "metadata": {
    "colab": {
     "base_uri": "https://localhost:8080/"
    },
    "id": "W5scFTeAOXn5",
    "outputId": "8251943a-9db8-4789-e0f2-415878d0f667"
   },
   "outputs": [],
   "source": []
  },
  {
   "cell_type": "markdown",
   "metadata": {
    "id": "5SFjawxPQEyA"
   },
   "source": [
    "### Basic Operators\n",
    "\n",
    "What makes working with `numpy` so powerful and convenient is that it\n",
    "comes with many *vectorized* math functions for computation over\n",
    "elements of an array. These functions are highly optimized and are\n",
    "*very* fast - much, much faster than using an explicit `for` loop.\n",
    "\n",
    "For example, let’s create a large array of random values and then sum it\n",
    "both ways. We’ll use a `%%time` *cell magic* to time them.a = np.random.random(100000000)"
   ]
  },
  {
   "cell_type": "code",
   "execution_count": 17,
   "metadata": {
    "colab": {
     "base_uri": "https://localhost:8080/"
    },
    "id": "80TwcsZHQFgu",
    "outputId": "6b3255f8-1e86-4f37-da43-bec203527b8d",
    "scrolled": true
   },
   "outputs": [
    {
     "name": "stdout",
     "output_type": "stream",
     "text": [
      "CPU times: total: 0 ns\n",
      "Wall time: 998 µs\n"
     ]
    }
   ],
   "source": [
    "%%time\n",
    "x = np.sum(a)"
   ]
  },
  {
   "cell_type": "code",
   "execution_count": 18,
   "metadata": {
    "colab": {
     "base_uri": "https://localhost:8080/"
    },
    "id": "pskJPQwUQJ6b",
    "outputId": "e964f36b-323c-4bfc-f07d-69b2c75d983c"
   },
   "outputs": [
    {
     "name": "stdout",
     "output_type": "stream",
     "text": [
      "CPU times: total: 0 ns\n",
      "Wall time: 0 ns\n"
     ]
    }
   ],
   "source": [
    "%%time\n",
    "x = 0 \n",
    "for element in a:\n",
    "  x = x + element"
   ]
  },
  {
   "cell_type": "markdown",
   "metadata": {
    "id": "ED521JAfQPlk"
   },
   "source": [
    "Look at the “Wall Time” in the output - note how much faster the vectorized version of the operation is! This type of fast computation is a major enabler of machine learning, which requires a lot of computation.\n",
    "\n",
    "Whenever possible, we will try to use these vectorized operations.\n",
    "\n",
    "Some mathematic functions are available both as operator overloads and\n",
    "as functions in the numpy module.\n",
    "\n",
    "For example, you can perform an elementwise sum on two arrays using\n",
    "either the + operator or the `add()` function.\n",
    "\n",
    "![](http://jalammar.github.io/images/numpy/numpy-arrays-adding-1.png)\n",
    "\n",
    "![](http://jalammar.github.io/images/numpy/numpy-matrix-arithmetic.png)"
   ]
  },
  {
   "cell_type": "code",
   "execution_count": 19,
   "metadata": {
    "colab": {
     "base_uri": "https://localhost:8080/"
    },
    "id": "DhoFpumDQVv_",
    "outputId": "403f504e-180a-4203-aae1-5ad49d877ac5"
   },
   "outputs": [
    {
     "name": "stdout",
     "output_type": "stream",
     "text": [
      "[[ 6.  8.]\n",
      " [10. 12.]]\n",
      "[[ 6.  8.]\n",
      " [10. 12.]]\n"
     ]
    }
   ],
   "source": [
    "x = np.array([[1,2],[3,4]], dtype=np.float64)\n",
    "y = np.array([[5,6],[7,8]], dtype=np.float64)\n",
    "\n",
    "# Elementwise sum; both produce the array\n",
    "print(x + y)\n",
    "print(np.add(x, y))"
   ]
  },
  {
   "cell_type": "markdown",
   "metadata": {
    "id": "Wt8tg_X8QXxn"
   },
   "source": [
    "And this works for other operations as well, not only addition:\n",
    "\n",
    "![](http://jalammar.github.io/images/numpy/numpy-array-subtract-multiply-divide.png)"
   ]
  },
  {
   "cell_type": "code",
   "execution_count": 20,
   "metadata": {
    "colab": {
     "base_uri": "https://localhost:8080/"
    },
    "id": "D2FW8WzRQXPs",
    "outputId": "fc59b726-416e-4c51-8c6f-ce98924f9855"
   },
   "outputs": [
    {
     "name": "stdout",
     "output_type": "stream",
     "text": [
      "[[-4. -4.]\n",
      " [-4. -4.]]\n",
      "[[-4. -4.]\n",
      " [-4. -4.]]\n"
     ]
    }
   ],
   "source": [
    "# Elementwise difference; both produce the array\n",
    "print(x - y)\n",
    "print(np.subtract(x, y))"
   ]
  },
  {
   "cell_type": "code",
   "execution_count": 21,
   "metadata": {
    "colab": {
     "base_uri": "https://localhost:8080/"
    },
    "id": "JYUKW_PvQa0K",
    "outputId": "39fe1fe7-b663-4279-912a-a3a5d99f7f6f"
   },
   "outputs": [
    {
     "name": "stdout",
     "output_type": "stream",
     "text": [
      "[[ 5. 12.]\n",
      " [21. 32.]]\n",
      "[[ 5. 12.]\n",
      " [21. 32.]]\n"
     ]
    }
   ],
   "source": [
    "# Elementwise product; both produce the array\n",
    "print(x * y)\n",
    "print(np.multiply(x, y))"
   ]
  },
  {
   "cell_type": "code",
   "execution_count": 22,
   "metadata": {
    "colab": {
     "base_uri": "https://localhost:8080/"
    },
    "id": "tk3fXUEzQcPq",
    "outputId": "42dcd86f-05ed-46a7-e96e-e9b6ff1329f6"
   },
   "outputs": [
    {
     "name": "stdout",
     "output_type": "stream",
     "text": [
      "[[0.2        0.33333333]\n",
      " [0.42857143 0.5       ]]\n",
      "[[0.2        0.33333333]\n",
      " [0.42857143 0.5       ]]\n"
     ]
    }
   ],
   "source": [
    "# Elementwise division; both produce the array\n",
    "# [[ 0.2         0.33333333]\n",
    "#  [ 0.42857143  0.5       ]]\n",
    "print(x / y)\n",
    "print(np.divide(x, y))"
   ]
  },
  {
   "cell_type": "code",
   "execution_count": 23,
   "metadata": {
    "colab": {
     "base_uri": "https://localhost:8080/"
    },
    "id": "mzxtf-R8QdnC",
    "outputId": "c8a1533c-32b3-44c1-bb1e-79cc51273397"
   },
   "outputs": [
    {
     "name": "stdout",
     "output_type": "stream",
     "text": [
      "[[1.         1.41421356]\n",
      " [1.73205081 2.        ]]\n"
     ]
    }
   ],
   "source": [
    "# Elementwise square root; produces the array\n",
    "# [[ 1.          1.41421356]\n",
    "#  [ 1.73205081  2.        ]]\n",
    "print(np.sqrt(x))"
   ]
  },
  {
   "cell_type": "code",
   "execution_count": 24,
   "metadata": {
    "colab": {
     "base_uri": "https://localhost:8080/"
    },
    "id": "DjTtIyo_SF6M",
    "outputId": "edb0daae-7954-458c-e70d-cdee06432316"
   },
   "outputs": [
    {
     "name": "stdout",
     "output_type": "stream",
     "text": [
      "[[ 2.71828183  7.3890561 ]\n",
      " [20.08553692 54.59815003]]\n"
     ]
    }
   ],
   "source": [
    "# Elementwise exponential power; produces array \n",
    "#[[ 2.71828183  7.3890561 ]\n",
    "#[20.08553692 54.59815003]]\n",
    "print(np.exp(x))"
   ]
  },
  {
   "cell_type": "code",
   "execution_count": 25,
   "metadata": {
    "colab": {
     "base_uri": "https://localhost:8080/"
    },
    "id": "wDZlzxTggYGX",
    "outputId": "4f5be046-e351-4951-dbbd-21d0893e6522"
   },
   "outputs": [
    {
     "data": {
      "text/plain": [
       "array([[ 3.,  7.],\n",
       "       [20., 55.]])"
      ]
     },
     "execution_count": 25,
     "metadata": {},
     "output_type": "execute_result"
    }
   ],
   "source": [
    "np.round(np.exp(x)) #Round an array to the given number of decimals.;elementwise"
   ]
  },
  {
   "cell_type": "code",
   "execution_count": 26,
   "metadata": {
    "colab": {
     "base_uri": "https://localhost:8080/"
    },
    "id": "_J5ZISrzgaX0",
    "outputId": "a2c76a80-8da8-4ff9-efae-d316147bb10b"
   },
   "outputs": [
    {
     "data": {
      "text/plain": [
       "array([[ 3.,  8.],\n",
       "       [21., 55.]])"
      ]
     },
     "execution_count": 26,
     "metadata": {},
     "output_type": "execute_result"
    }
   ],
   "source": [
    "np.ceil(np.exp(x)) #Return the ceiling of the input, element-wise."
   ]
  },
  {
   "cell_type": "code",
   "execution_count": 27,
   "metadata": {
    "colab": {
     "base_uri": "https://localhost:8080/"
    },
    "id": "Oo-wInjegbbZ",
    "outputId": "9b4a3c8f-e1d5-4e4a-9e50-bad74eed275d"
   },
   "outputs": [
    {
     "data": {
      "text/plain": [
       "array([[ 2.,  7.],\n",
       "       [20., 54.]])"
      ]
     },
     "execution_count": 27,
     "metadata": {},
     "output_type": "execute_result"
    }
   ],
   "source": [
    "np.floor(np.exp(x)) #Return the floor of the input, element-wise."
   ]
  },
  {
   "cell_type": "markdown",
   "metadata": {
    "id": "epvwt4YLUaLa"
   },
   "source": [
    "You can find out more functions from [here](https://numpy.org/doc/stable/user/quickstart.html#basic-operations).\n",
    "\n",
    "Note that `*` operator is not a matrix multipication operator in contrast to other programming languages like MATLAB.  `dot()` function instead is used to compute inner products of vectors, to multiply a vector by a matrix, and to multiply matrices. `dot()` is available both as a function in the numpy module\n",
    "and as an instance method of array objects:\n",
    "\n",
    "![](http://jalammar.github.io/images/numpy/numpy-matrix-dot-product-1.png)"
   ]
  },
  {
   "cell_type": "code",
   "execution_count": 28,
   "metadata": {
    "colab": {
     "base_uri": "https://localhost:8080/"
    },
    "id": "PIQzJ9g2V-5U",
    "outputId": "2f2898ec-4aaf-4c3a-bfb4-d118b1bef943"
   },
   "outputs": [
    {
     "name": "stdout",
     "output_type": "stream",
     "text": [
      "[[1 2]\n",
      " [3 4]]\n",
      "[[5 6]\n",
      " [7 8]]\n",
      "[ 9 10]\n",
      "[11 12]\n"
     ]
    }
   ],
   "source": [
    "x = np.array([[1,2],[3,4]])\n",
    "y = np.array([[5,6],[7,8]])\n",
    "\n",
    "v = np.array([9,10])\n",
    "w = np.array([11, 12])\n",
    "\n",
    "print(x)\n",
    "\n",
    "print(y)\n",
    "\n",
    "print(v)\n",
    "\n",
    "print(w)"
   ]
  },
  {
   "cell_type": "code",
   "execution_count": 29,
   "metadata": {
    "colab": {
     "base_uri": "https://localhost:8080/"
    },
    "id": "yqBh9eNiWFZj",
    "outputId": "5b13f557-436c-4b80-c501-1d32ae7710fe"
   },
   "outputs": [
    {
     "name": "stdout",
     "output_type": "stream",
     "text": [
      "219\n",
      "219\n"
     ]
    }
   ],
   "source": [
    "# Inner product of vectors; both produce 219\n",
    "print(v.dot(w))\n",
    "print(np.dot(v, w))"
   ]
  },
  {
   "cell_type": "markdown",
   "metadata": {
    "id": "jdztRqkHWJNc"
   },
   "source": [
    "You can also use the `@` operator which is equivalent to numpy's `dot`\n",
    "operator."
   ]
  },
  {
   "cell_type": "code",
   "execution_count": 30,
   "metadata": {
    "id": "OulC71MEWIcK"
   },
   "outputs": [
    {
     "name": "stdout",
     "output_type": "stream",
     "text": [
      "219\n"
     ]
    }
   ],
   "source": [
    "print(v @ w)"
   ]
  },
  {
   "cell_type": "markdown",
   "metadata": {
    "id": "DTWMRF-MWg87"
   },
   "source": [
    "#### Exercise 6 \n",
    "\n",
    "Multiply a 5x3 matrix by a 3x2 matrix (real matrix product) where the all elements in both matrices are 1. \n",
    "\n",
    "**Answer:**"
   ]
  },
  {
   "cell_type": "code",
   "execution_count": 31,
   "metadata": {
    "colab": {
     "base_uri": "https://localhost:8080/"
    },
    "id": "C7eA5tCDWRF4",
    "outputId": "7e883dca-c706-4c0e-f225-9ef2ad60dee8"
   },
   "outputs": [
    {
     "data": {
      "text/plain": [
       "array([[3., 3.],\n",
       "       [3., 3.],\n",
       "       [3., 3.],\n",
       "       [3., 3.],\n",
       "       [3., 3.]])"
      ]
     },
     "execution_count": 31,
     "metadata": {},
     "output_type": "execute_result"
    }
   ],
   "source": [
    "m1 = np.ones((5,3))\n",
    "m1\n",
    "m2 = np.ones((3,2))\n",
    "m2\n",
    "m1@m2"
   ]
  },
  {
   "cell_type": "markdown",
   "metadata": {
    "id": "fGOijRw1WRXg"
   },
   "source": [
    "#### Mathematical and Statistical Functions \n",
    "\n",
    "Numpy also provides many useful functions for performing computations on arrays, such as `min()`, `max()`, `sum()`,`mean()`,`median()`, `quantile()` and others:\n",
    "\n",
    "You can see the full list from [here](https://numpy.org/doc/stable/reference/routines.math.html)\n",
    "\n",
    "![](http://jalammar.github.io/images/numpy/numpy-matrix-aggregation-1.png)\n",
    "\n"
   ]
  },
  {
   "cell_type": "code",
   "execution_count": 32,
   "metadata": {
    "colab": {
     "base_uri": "https://localhost:8080/"
    },
    "id": "abdbydILXgVJ",
    "outputId": "bb2db85b-012c-4bb0-dbd7-e5a1674c4d75"
   },
   "outputs": [
    {
     "name": "stdout",
     "output_type": "stream",
     "text": [
      "[[1 2]\n",
      " [3 4]\n",
      " [5 6]]\n"
     ]
    }
   ],
   "source": [
    "x = np.array([[1, 2], [3, 4], [5, 6]])\n",
    "\n",
    "print(x)"
   ]
  },
  {
   "cell_type": "code",
   "execution_count": 33,
   "metadata": {
    "colab": {
     "base_uri": "https://localhost:8080/"
    },
    "id": "mtw_SrJzXqzt",
    "outputId": "d82b275d-ddb1-4b56-8afe-339fdb3e17c2"
   },
   "outputs": [
    {
     "name": "stdout",
     "output_type": "stream",
     "text": [
      "1\n"
     ]
    }
   ],
   "source": [
    "print(np.min(x))  # Show min of all elements; prints \"1\""
   ]
  },
  {
   "cell_type": "code",
   "execution_count": 34,
   "metadata": {
    "colab": {
     "base_uri": "https://localhost:8080/"
    },
    "id": "zCp-EYvDXskG",
    "outputId": "ccfe3c49-e4db-43e2-a959-e84b5a3a6324"
   },
   "outputs": [
    {
     "name": "stdout",
     "output_type": "stream",
     "text": [
      "6\n"
     ]
    }
   ],
   "source": [
    "print(np.max(x))  # Show max of all elements; prints \"6\"\n"
   ]
  },
  {
   "cell_type": "code",
   "execution_count": 35,
   "metadata": {
    "colab": {
     "base_uri": "https://localhost:8080/"
    },
    "id": "7u-VyEjHX6MS",
    "outputId": "d162590d-ea81-418b-aa44-bb735d2c41e1"
   },
   "outputs": [
    {
     "name": "stdout",
     "output_type": "stream",
     "text": [
      "3.5\n"
     ]
    }
   ],
   "source": [
    "print(np.mean(x))  # Compute the mean of the all elements; prints \"3.5\""
   ]
  },
  {
   "cell_type": "markdown",
   "metadata": {
    "id": "0mnH5KFXYCCZ"
   },
   "source": [
    "$\\frac{\\sum_{i=1}^{n=6} i}{6} = 3.5$"
   ]
  },
  {
   "cell_type": "code",
   "execution_count": 36,
   "metadata": {
    "colab": {
     "base_uri": "https://localhost:8080/"
    },
    "id": "6tlgrSkJYSIG",
    "outputId": "ddc8c6c6-bed9-46cf-f2ed-6cb4513a2204"
   },
   "outputs": [
    {
     "name": "stdout",
     "output_type": "stream",
     "text": [
      "3.5\n"
     ]
    }
   ],
   "source": [
    "print(np.median(x))  # Compute the median of the all elements; prints \"3.5\""
   ]
  },
  {
   "cell_type": "code",
   "execution_count": 37,
   "metadata": {
    "colab": {
     "base_uri": "https://localhost:8080/"
    },
    "id": "PVRwq5Yfa_qA",
    "outputId": "ddb27990-33d8-4e21-fd87-dfb16956ebc4"
   },
   "outputs": [
    {
     "name": "stdout",
     "output_type": "stream",
     "text": [
      "4.75\n"
     ]
    }
   ],
   "source": [
    "print(np.quantile(x, 0.75))  # Compute the 3rd quartile of the all elements; prints \"4.75\""
   ]
  },
  {
   "cell_type": "code",
   "execution_count": 38,
   "metadata": {
    "colab": {
     "base_uri": "https://localhost:8080/"
    },
    "id": "YSmgqRbwYVxg",
    "outputId": "1a00d7bb-2f8e-4e11-bb59-648aa3475182"
   },
   "outputs": [
    {
     "name": "stdout",
     "output_type": "stream",
     "text": [
      "1.707825127659933\n"
     ]
    }
   ],
   "source": [
    "print(np.std(x))  # Compute the standard deviation of the all elements; prints \"1.708\""
   ]
  },
  {
   "cell_type": "code",
   "execution_count": 39,
   "metadata": {
    "colab": {
     "base_uri": "https://localhost:8080/"
    },
    "id": "yZo-DdPJX385",
    "outputId": "2c4791d5-a29e-4cb4-f974-d17379634196"
   },
   "outputs": [
    {
     "name": "stdout",
     "output_type": "stream",
     "text": [
      "21\n"
     ]
    }
   ],
   "source": [
    "print(np.sum(x))  # Compute sum of all elements; prints \"21\""
   ]
  },
  {
   "cell_type": "code",
   "execution_count": 40,
   "metadata": {
    "colab": {
     "base_uri": "https://localhost:8080/"
    },
    "id": "kTA0DtlWZejW",
    "outputId": "e72adb18-0bd8-47d6-ba9e-73e3ac8739c5"
   },
   "outputs": [
    {
     "name": "stdout",
     "output_type": "stream",
     "text": [
      "[ 1  3  6 10 15 21]\n"
     ]
    }
   ],
   "source": [
    "print(np.cumsum(x))  # Compute cumulative sum of all elements; prints \"21\""
   ]
  },
  {
   "cell_type": "markdown",
   "metadata": {},
   "source": [
    "Now, let's see how the correlating function works. "
   ]
  },
  {
   "cell_type": "code",
   "execution_count": 41,
   "metadata": {},
   "outputs": [],
   "source": [
    "a = np.array([0.45959958, 0.1613048 , 0.76000473, 0.07536241, 0.60232491,\n",
    "       0.00167602, 0.71653501, 0.40927931, 0.78030462, 0.15509362])\n",
    "b = np.array([7.17485455, 5.50089164, 7.35266241, 5.64972889, 7.62871573,\n",
    "       5.01298309, 7.57177999, 6.81378627, 7.3785654 , 5.79279215])"
   ]
  },
  {
   "cell_type": "code",
   "execution_count": 42,
   "metadata": {},
   "outputs": [
    {
     "data": {
      "text/plain": [
       "array([[0.08872592, 0.28013513],\n",
       "       [0.28013513, 0.98124247]])"
      ]
     },
     "execution_count": 42,
     "metadata": {},
     "output_type": "execute_result"
    }
   ],
   "source": [
    "np.cov(a,b)"
   ]
  },
  {
   "cell_type": "code",
   "execution_count": 43,
   "metadata": {},
   "outputs": [
    {
     "data": {
      "text/plain": [
       "array([[1.        , 0.94941078],\n",
       "       [0.94941078, 1.        ]])"
      ]
     },
     "execution_count": 43,
     "metadata": {},
     "output_type": "execute_result"
    }
   ],
   "source": [
    "np.corrcoef(a,b)"
   ]
  },
  {
   "cell_type": "markdown",
   "metadata": {
    "id": "0-5fAVMyXmmM"
   },
   "source": [
    "Not only can we aggregate all the values in a matrix using these\n",
    "functions, but we can also aggregate across the rows or columns by using\n",
    "the `axis` parameter:\n",
    "\n",
    "![](http://jalammar.github.io/images/numpy/numpy-matrix-aggregation-4.png)"
   ]
  },
  {
   "cell_type": "code",
   "execution_count": 44,
   "metadata": {
    "colab": {
     "base_uri": "https://localhost:8080/"
    },
    "id": "Sq-v1rCZZpXI",
    "outputId": "19a867d6-00c7-4fcc-8ba2-3315b76cf629"
   },
   "outputs": [
    {
     "name": "stdout",
     "output_type": "stream",
     "text": [
      "[5 6]\n"
     ]
    }
   ],
   "source": [
    "x = np.array([[1, 2], [5, 3], [4, 6]])\n",
    "\n",
    "print(np.max(x, axis=0))  # Compute max of each column; prints \"[5 6]\"\n"
   ]
  },
  {
   "cell_type": "code",
   "execution_count": 45,
   "metadata": {
    "colab": {
     "base_uri": "https://localhost:8080/"
    },
    "id": "r-YWBgr7ZqdY",
    "outputId": "28c32b66-cd86-40ff-c377-939278ac255b"
   },
   "outputs": [
    {
     "name": "stdout",
     "output_type": "stream",
     "text": [
      "[2 5 6]\n"
     ]
    }
   ],
   "source": [
    "print(np.max(x, axis=1))  # Compute max of each row; prints \"[2 5 6]\""
   ]
  },
  {
   "cell_type": "code",
   "execution_count": 46,
   "metadata": {
    "colab": {
     "base_uri": "https://localhost:8080/"
    },
    "id": "Qb3GmV8FZq5j",
    "outputId": "6a4a57c8-09b5-4ea8-f9c4-e20010143ff1"
   },
   "outputs": [
    {
     "name": "stdout",
     "output_type": "stream",
     "text": [
      "[1.5 4.  5. ]\n"
     ]
    }
   ],
   "source": [
    "print(np.mean(x, axis=1))  # Compute mean of each row; prints \"[1.5 4  5]\""
   ]
  },
  {
   "cell_type": "markdown",
   "metadata": {},
   "source": [
    "```np.sort``` returns the sorted copy of the array. \n"
   ]
  },
  {
   "cell_type": "code",
   "execution_count": 47,
   "metadata": {},
   "outputs": [
    {
     "data": {
      "text/plain": [
       "array([0.45959958, 0.1613048 , 0.76000473, 0.07536241, 0.60232491,\n",
       "       0.00167602, 0.71653501, 0.40927931, 0.78030462, 0.15509362])"
      ]
     },
     "execution_count": 47,
     "metadata": {},
     "output_type": "execute_result"
    }
   ],
   "source": [
    "a"
   ]
  },
  {
   "cell_type": "code",
   "execution_count": 48,
   "metadata": {},
   "outputs": [
    {
     "data": {
      "text/plain": [
       "array([0.00167602, 0.07536241, 0.15509362, 0.1613048 , 0.40927931,\n",
       "       0.45959958, 0.60232491, 0.71653501, 0.76000473, 0.78030462])"
      ]
     },
     "execution_count": 48,
     "metadata": {},
     "output_type": "execute_result"
    }
   ],
   "source": [
    "np.sort(a) #from smallest to largest "
   ]
  },
  {
   "cell_type": "code",
   "execution_count": 49,
   "metadata": {},
   "outputs": [
    {
     "data": {
      "text/plain": [
       "array([0.78030462, 0.76000473, 0.71653501, 0.60232491, 0.45959958,\n",
       "       0.40927931, 0.1613048 , 0.15509362, 0.07536241, 0.00167602])"
      ]
     },
     "execution_count": 49,
     "metadata": {},
     "output_type": "execute_result"
    }
   ],
   "source": [
    "np.sort(a)[::-1] #from largest to smallest "
   ]
  },
  {
   "cell_type": "markdown",
   "metadata": {},
   "source": [
    "**Extra** \n",
    "\n",
    "You can generate order your data in a random order. "
   ]
  },
  {
   "cell_type": "code",
   "execution_count": 50,
   "metadata": {},
   "outputs": [
    {
     "data": {
      "text/plain": [
       "array([0.15509362, 0.40927931, 0.60232491, 0.00167602, 0.07536241,\n",
       "       0.71653501, 0.45959958, 0.1613048 , 0.78030462, 0.76000473])"
      ]
     },
     "execution_count": 50,
     "metadata": {},
     "output_type": "execute_result"
    }
   ],
   "source": [
    "np.random.shuffle(a)\n",
    "a"
   ]
  },
  {
   "cell_type": "markdown",
   "metadata": {},
   "source": [
    "#### **Exercise 7** \n",
    "\n",
    "Create a 1D array having 10 elements. You can use .random function.\n",
    "\n",
    "Calculate the five number summaries of the array.\n",
    "\n",
    "**Answer:**"
   ]
  },
  {
   "cell_type": "code",
   "execution_count": 51,
   "metadata": {},
   "outputs": [
    {
     "data": {
      "text/plain": [
       "array([0.42453272, 0.43628588, 0.62335757, 0.97146917, 0.45388479,\n",
       "       0.82996308, 0.50958942, 0.64671191, 0.00916139, 0.37913221])"
      ]
     },
     "execution_count": 51,
     "metadata": {},
     "output_type": "execute_result"
    }
   ],
   "source": [
    "ex2 = np.random.random(10)\n",
    "ex2"
   ]
  },
  {
   "cell_type": "code",
   "execution_count": 52,
   "metadata": {},
   "outputs": [
    {
     "name": "stdout",
     "output_type": "stream",
     "text": [
      "0.009161392673444513\n",
      "0.4274710069776885\n",
      "0.48173710592371627\n",
      "0.640873323978173\n",
      "0.9714691679156967\n"
     ]
    }
   ],
   "source": [
    "print(ex2.min())\n",
    "print(np.quantile(ex2,0.25))\n",
    "print(np.median(ex2))\n",
    "print(np.quantile(ex2,0.75))\n",
    "print(np.max(ex2))"
   ]
  },
  {
   "cell_type": "markdown",
   "metadata": {},
   "source": [
    "#### **Array Indexing and Slicing**\n",
    "\n",
    "If you are familiar with Python's standard list indexing, indexing in NumPy will feel quite familiar. It offers several ways to index into arrays.\n",
    "\n",
    "In a one-dimensional array, the value (counting from zero) can be accessed by specifying the desired index in square brackets, just as with Python lists:\n",
    "\n",
    "![](http://jalammar.github.io/images/numpy/numpy-array-slice.png)\n",
    "\n",
    "And you can index and slice numpy arrays in multiple dimensions. If\n",
    "slicing an array with more than one dimension, you should specify a\n",
    "slice for each dimension using a comma-separated tuple of indices:\n",
    "\n",
    "![](http://jalammar.github.io/images/numpy/numpy-matrix-indexing.png)\n",
    "\n",
    "\n"
   ]
  },
  {
   "cell_type": "code",
   "execution_count": 53,
   "metadata": {},
   "outputs": [
    {
     "data": {
      "text/plain": [
       "array([0.92999465, 0.01661108, 0.74485131, 0.09094147, 0.42609442,\n",
       "       0.89740487, 0.76464819, 0.86510197, 0.77900209, 0.54856054])"
      ]
     },
     "execution_count": 53,
     "metadata": {},
     "output_type": "execute_result"
    }
   ],
   "source": [
    "x1 = np.random.random(10) #create one dimensional array\n",
    "x1"
   ]
  },
  {
   "cell_type": "code",
   "execution_count": 54,
   "metadata": {},
   "outputs": [
    {
     "data": {
      "text/plain": [
       "0.9299946474454238"
      ]
     },
     "execution_count": 54,
     "metadata": {},
     "output_type": "execute_result"
    }
   ],
   "source": [
    "x1[0]"
   ]
  },
  {
   "cell_type": "code",
   "execution_count": 55,
   "metadata": {},
   "outputs": [
    {
     "data": {
      "text/plain": [
       "0.4260944215655008"
      ]
     },
     "execution_count": 55,
     "metadata": {},
     "output_type": "execute_result"
    }
   ],
   "source": [
    "x1[4]"
   ]
  },
  {
   "cell_type": "code",
   "execution_count": 56,
   "metadata": {},
   "outputs": [
    {
     "data": {
      "text/plain": [
       "array([0.92999465, 0.01661108])"
      ]
     },
     "execution_count": 56,
     "metadata": {},
     "output_type": "execute_result"
    }
   ],
   "source": [
    "x1[0:2]"
   ]
  },
  {
   "cell_type": "code",
   "execution_count": 57,
   "metadata": {},
   "outputs": [
    {
     "data": {
      "text/plain": [
       "0.5485605432937505"
      ]
     },
     "execution_count": 57,
     "metadata": {},
     "output_type": "execute_result"
    }
   ],
   "source": [
    "x1[len(x1)-1] #the accessing the last entry "
   ]
  },
  {
   "cell_type": "code",
   "execution_count": 58,
   "metadata": {},
   "outputs": [
    {
     "data": {
      "text/plain": [
       "0.5485605432937505"
      ]
     },
     "execution_count": 58,
     "metadata": {},
     "output_type": "execute_result"
    }
   ],
   "source": [
    "x1[-1]"
   ]
  },
  {
   "cell_type": "code",
   "execution_count": 59,
   "metadata": {},
   "outputs": [
    {
     "data": {
      "text/plain": [
       "0.779002092215601"
      ]
     },
     "execution_count": 59,
     "metadata": {},
     "output_type": "execute_result"
    }
   ],
   "source": [
    "x1[-2]"
   ]
  },
  {
   "cell_type": "markdown",
   "metadata": {},
   "source": [
    "As stated above, you can use comma seperated tupples for multidimensional array."
   ]
  },
  {
   "cell_type": "code",
   "execution_count": 60,
   "metadata": {},
   "outputs": [
    {
     "data": {
      "text/plain": [
       "array([[ 1,  2,  3,  4],\n",
       "       [ 5,  6,  7,  8],\n",
       "       [ 9, 10, 11, 12]])"
      ]
     },
     "execution_count": 60,
     "metadata": {},
     "output_type": "execute_result"
    }
   ],
   "source": [
    "# Create the following rank 2 array with shape (3, 4)\n",
    "a = np.array([[1,2,3,4], [5,6,7,8], [9,10,11,12]])\n",
    "a"
   ]
  },
  {
   "cell_type": "code",
   "execution_count": 61,
   "metadata": {},
   "outputs": [
    {
     "data": {
      "text/plain": [
       "array([[ 1,  2,  3,  4],\n",
       "       [ 5,  6,  7,  8],\n",
       "       [ 9, 10, 11, 12]])"
      ]
     },
     "execution_count": 61,
     "metadata": {},
     "output_type": "execute_result"
    }
   ],
   "source": [
    "# Create the following rank 2 array with shape (3, 4)\n",
    "a = np.array([[1,2,3,4], [5,6,7,8], [9,10,11,12]])\n",
    "a"
   ]
  },
  {
   "cell_type": "code",
   "execution_count": 62,
   "metadata": {},
   "outputs": [
    {
     "data": {
      "text/plain": [
       "7"
      ]
     },
     "execution_count": 62,
     "metadata": {},
     "output_type": "execute_result"
    }
   ],
   "source": [
    "# Use slicing to pull out the subarray showng the (2,3)^th element of the array\n",
    "a[1,2]"
   ]
  },
  {
   "cell_type": "markdown",
   "metadata": {},
   "source": [
    "Two ways of accessing the data in the middle row of the array. Mixing integer indexing with slices yields an array of lower rank, while using only slices yields an array of the same rank as the original array:"
   ]
  },
  {
   "cell_type": "code",
   "execution_count": 63,
   "metadata": {},
   "outputs": [
    {
     "name": "stdout",
     "output_type": "stream",
     "text": [
      "[5 6 7 8] (4,)\n",
      "[[5 6 7 8]] (1, 4)\n",
      "[[5 6 7 8]] (1, 4)\n"
     ]
    }
   ],
   "source": [
    "row_r1 = a[1, :]    # Rank 1 view of the second row of a  \n",
    "row_r2 = a[1:2, :]  # Rank 2 view of the second row of a\n",
    "row_r3 = a[[1], :]  # Rank 2 view of the second row of a\n",
    "print(row_r1, row_r1.shape)\n",
    "print(row_r2, row_r2.shape)\n",
    "print(row_r3, row_r3.shape)"
   ]
  },
  {
   "cell_type": "code",
   "execution_count": 64,
   "metadata": {},
   "outputs": [
    {
     "name": "stdout",
     "output_type": "stream",
     "text": [
      "[ 2  6 10] (3,)\n",
      "\n",
      "[[ 2]\n",
      " [ 6]\n",
      " [10]] (3, 1)\n"
     ]
    }
   ],
   "source": [
    "# We can make the same distinction when accessing columns of an array:\n",
    "col_r1 = a[:, 1]\n",
    "col_r2 = a[:, 1:2]\n",
    "print(col_r1, col_r1.shape)\n",
    "print()\n",
    "print(col_r2, col_r2.shape)"
   ]
  },
  {
   "cell_type": "code",
   "execution_count": 65,
   "metadata": {},
   "outputs": [
    {
     "name": "stdout",
     "output_type": "stream",
     "text": [
      "[[2 3]\n",
      " [6 7]]\n"
     ]
    }
   ],
   "source": [
    "# Use slicing to pull out the subarray consisting of the first 2 rows\n",
    "# and columns 1 and 2; b is the following array of shape (2, 2):\n",
    "# [[2 3]\n",
    "#  [6 7]]\n",
    "b = a[:2, 1:3]\n",
    "print(b)"
   ]
  },
  {
   "cell_type": "markdown",
   "metadata": {},
   "source": [
    "**Integer array indexing**: When you index into numpy arrays using slicing, the resulting array view will always be a subarray of the original array. In contrast, integer array indexing allows you to construct arbitrary arrays using the data from another array. Here is an example:"
   ]
  },
  {
   "cell_type": "code",
   "execution_count": 66,
   "metadata": {},
   "outputs": [
    {
     "data": {
      "text/plain": [
       "array([[1, 2],\n",
       "       [3, 4],\n",
       "       [5, 6]])"
      ]
     },
     "execution_count": 66,
     "metadata": {},
     "output_type": "execute_result"
    }
   ],
   "source": [
    "a = np.array([[1,2], [3, 4], [5, 6]])\n",
    "\n",
    "a"
   ]
  },
  {
   "cell_type": "code",
   "execution_count": 67,
   "metadata": {},
   "outputs": [
    {
     "name": "stdout",
     "output_type": "stream",
     "text": [
      "[1 4 5]\n",
      "[1 4 5]\n"
     ]
    }
   ],
   "source": [
    "# An example of integer array indexing.\n",
    "# The returned array will have shape (3,) and \n",
    "print(a[[0, 1, 2], [0, 1, 0]])\n",
    "\n",
    "# The above example of integer array indexing is equivalent to this:\n",
    "print(np.array([a[0, 0], a[1, 1], a[2, 0]]))"
   ]
  },
  {
   "cell_type": "markdown",
   "metadata": {},
   "source": [
    "#### **Exercise 8.1** \n",
    "\n",
    "Create a sequence consisting of numbers between 0 and 9. \n",
    "\n",
    "**Hint:** Use `np.arange()`"
   ]
  },
  {
   "cell_type": "code",
   "execution_count": 68,
   "metadata": {},
   "outputs": [
    {
     "data": {
      "text/plain": [
       "array([0, 1, 2, 3, 4, 5, 6, 7, 8, 9])"
      ]
     },
     "execution_count": 68,
     "metadata": {},
     "output_type": "execute_result"
    }
   ],
   "source": [
    "a = np.arange(0,10,1)\n",
    "a "
   ]
  },
  {
   "cell_type": "markdown",
   "metadata": {},
   "source": [
    "**a) Pull out the second element.** "
   ]
  },
  {
   "cell_type": "code",
   "execution_count": 69,
   "metadata": {},
   "outputs": [
    {
     "data": {
      "text/plain": [
       "1"
      ]
     },
     "execution_count": 69,
     "metadata": {},
     "output_type": "execute_result"
    }
   ],
   "source": [
    "a[1]"
   ]
  },
  {
   "cell_type": "markdown",
   "metadata": {},
   "source": [
    "**b) Pull out the first 5 elements**"
   ]
  },
  {
   "cell_type": "code",
   "execution_count": 70,
   "metadata": {},
   "outputs": [
    {
     "data": {
      "text/plain": [
       "array([0, 1, 2, 3, 4])"
      ]
     },
     "execution_count": 70,
     "metadata": {},
     "output_type": "execute_result"
    }
   ],
   "source": [
    "a[0:5]"
   ]
  },
  {
   "cell_type": "markdown",
   "metadata": {},
   "source": [
    "#### **Exercise 8.2** \n",
    "\n",
    "Create the following 2D Array. \n",
    "```\n",
    "array([[12,  5,  2],\n",
    "       [ 7,  6,  8]])\n",
    "```"
   ]
  },
  {
   "cell_type": "code",
   "execution_count": 71,
   "metadata": {},
   "outputs": [
    {
     "data": {
      "text/plain": [
       "array([[12,  5,  2],\n",
       "       [ 7,  6,  8]])"
      ]
     },
     "execution_count": 71,
     "metadata": {},
     "output_type": "execute_result"
    }
   ],
   "source": [
    "ex_32 = np.array([[12,  5,  2],\n",
    "       [ 7,  6,  8]])\n",
    "ex_32"
   ]
  },
  {
   "cell_type": "markdown",
   "metadata": {},
   "source": [
    "**a) Shows the third column of the array**"
   ]
  },
  {
   "cell_type": "code",
   "execution_count": 72,
   "metadata": {},
   "outputs": [
    {
     "data": {
      "text/plain": [
       "array([2, 8])"
      ]
     },
     "execution_count": 72,
     "metadata": {},
     "output_type": "execute_result"
    }
   ],
   "source": [
    "ex_32[:,2]"
   ]
  },
  {
   "cell_type": "markdown",
   "metadata": {},
   "source": [
    "**b) Shows all rows and first two columns**"
   ]
  },
  {
   "cell_type": "code",
   "execution_count": 73,
   "metadata": {},
   "outputs": [
    {
     "data": {
      "text/plain": [
       "array([[12,  5],\n",
       "       [ 7,  6]])"
      ]
     },
     "execution_count": 73,
     "metadata": {},
     "output_type": "execute_result"
    }
   ],
   "source": [
    "ex_32[:,0:2]"
   ]
  },
  {
   "cell_type": "code",
   "execution_count": 74,
   "metadata": {},
   "outputs": [
    {
     "data": {
      "text/plain": [
       "array([[1, 2],\n",
       "       [3, 4],\n",
       "       [5, 6]])"
      ]
     },
     "execution_count": 74,
     "metadata": {},
     "output_type": "execute_result"
    }
   ],
   "source": [
    "a = np.array([[1,2], [3, 4], [5, 6]])\n",
    "\n",
    "a"
   ]
  },
  {
   "cell_type": "markdown",
   "metadata": {},
   "source": [
    "A slice of an array is a view into the same data, so modifying it will modify the original array."
   ]
  },
  {
   "cell_type": "code",
   "execution_count": 75,
   "metadata": {},
   "outputs": [
    {
     "name": "stdout",
     "output_type": "stream",
     "text": [
      "2\n",
      "2\n"
     ]
    }
   ],
   "source": [
    "print(a[0, 1])\n",
    "b[0, 0] = 77    # b[0, 0] is the same piece of data as a[0, 1]\n",
    "print(a[0, 1])"
   ]
  },
  {
   "cell_type": "code",
   "execution_count": 76,
   "metadata": {},
   "outputs": [
    {
     "data": {
      "text/plain": [
       "array([3, 4, 5])"
      ]
     },
     "execution_count": 76,
     "metadata": {},
     "output_type": "execute_result"
    }
   ],
   "source": [
    "a = np.array([3,4,5])\n",
    "a"
   ]
  },
  {
   "cell_type": "code",
   "execution_count": 77,
   "metadata": {},
   "outputs": [
    {
     "data": {
      "text/plain": [
       "array([        3, 121342141,         5])"
      ]
     },
     "execution_count": 77,
     "metadata": {},
     "output_type": "execute_result"
    }
   ],
   "source": [
    "a[1] = 121342141\n",
    "a"
   ]
  },
  {
   "cell_type": "markdown",
   "metadata": {},
   "source": [
    "#### **Exercise 9**\n",
    "\n",
    "Consider the 2D array in Exercise 3.2"
   ]
  },
  {
   "cell_type": "markdown",
   "metadata": {},
   "source": [
    "**a) Replace the first element of the array by 3**"
   ]
  },
  {
   "cell_type": "code",
   "execution_count": 78,
   "metadata": {},
   "outputs": [],
   "source": [
    "ex_32[0,0] = 3 "
   ]
  },
  {
   "cell_type": "code",
   "execution_count": 79,
   "metadata": {},
   "outputs": [
    {
     "data": {
      "text/plain": [
       "array([[3, 5, 2],\n",
       "       [7, 6, 8]])"
      ]
     },
     "execution_count": 79,
     "metadata": {},
     "output_type": "execute_result"
    }
   ],
   "source": [
    "ex_32"
   ]
  },
  {
   "cell_type": "markdown",
   "metadata": {},
   "source": [
    "**b) Replace the second row by  [1,6,5]**"
   ]
  },
  {
   "cell_type": "code",
   "execution_count": 80,
   "metadata": {},
   "outputs": [
    {
     "data": {
      "text/plain": [
       "array([[3, 5, 2],\n",
       "       [1, 6, 5]])"
      ]
     },
     "execution_count": 80,
     "metadata": {},
     "output_type": "execute_result"
    }
   ],
   "source": [
    "ex_32[1,:] = np.array([1,6,5])\n",
    "ex_32"
   ]
  },
  {
   "cell_type": "markdown",
   "metadata": {},
   "source": [
    "**Boolean array indexing**: Boolean array indexing lets you pick out arbitrary elements of an array. Frequently this type of indexing is used to select the elements of an array that satisfy some condition. Here is an example:"
   ]
  },
  {
   "cell_type": "code",
   "execution_count": 81,
   "metadata": {},
   "outputs": [
    {
     "data": {
      "text/plain": [
       "array([[1, 2],\n",
       "       [3, 4],\n",
       "       [5, 6]])"
      ]
     },
     "execution_count": 81,
     "metadata": {},
     "output_type": "execute_result"
    }
   ],
   "source": [
    "a = np.array([[1,2], [3, 4], [5, 6]])\n",
    "\n",
    "a"
   ]
  },
  {
   "cell_type": "code",
   "execution_count": 82,
   "metadata": {},
   "outputs": [
    {
     "name": "stdout",
     "output_type": "stream",
     "text": [
      "[[False False]\n",
      " [ True  True]\n",
      " [ True  True]]\n"
     ]
    }
   ],
   "source": [
    "bool_idx = (a > 2)  # Find the elements of a that are bigger than 2;\n",
    "                    # this returns a numpy array of Booleans of the same\n",
    "                    # shape as a, where each slot of bool_idx tells\n",
    "                    # whether that element of a is > 2.\n",
    "\n",
    "print(bool_idx)"
   ]
  },
  {
   "cell_type": "code",
   "execution_count": 83,
   "metadata": {},
   "outputs": [
    {
     "name": "stdout",
     "output_type": "stream",
     "text": [
      "[3 4 5 6]\n",
      "[3 4 5 6]\n"
     ]
    }
   ],
   "source": [
    "# We use boolean array indexing to construct a rank 1 array\n",
    "# consisting of the elements of a corresponding to the True values\n",
    "# of bool_idx\n",
    "print(a[bool_idx])\n",
    "\n",
    "# We can do all of the above in a single concise statement:\n",
    "print(a[a > 2])"
   ]
  },
  {
   "cell_type": "code",
   "execution_count": 84,
   "metadata": {},
   "outputs": [],
   "source": [
    "bbb = np.random.random(5)"
   ]
  },
  {
   "cell_type": "code",
   "execution_count": 85,
   "metadata": {},
   "outputs": [
    {
     "data": {
      "text/plain": [
       "array([0.09639114, 0.11145744, 0.53935786, 0.97046017, 0.55244744])"
      ]
     },
     "execution_count": 85,
     "metadata": {},
     "output_type": "execute_result"
    }
   ],
   "source": [
    "bbb"
   ]
  },
  {
   "cell_type": "code",
   "execution_count": 86,
   "metadata": {},
   "outputs": [
    {
     "data": {
      "text/plain": [
       "array([0.53935786, 0.97046017, 0.55244744])"
      ]
     },
     "execution_count": 86,
     "metadata": {},
     "output_type": "execute_result"
    }
   ],
   "source": [
    "bbb[bbb>0.4]"
   ]
  },
  {
   "cell_type": "markdown",
   "metadata": {
    "id": "JdYNb0HZbIW7"
   },
   "source": [
    "#### Exercise 10\n",
    "\n",
    "Create a 1D array by executing the given code. "
   ]
  },
  {
   "cell_type": "code",
   "execution_count": 87,
   "metadata": {
    "id": "DXnqSrE9cvHN"
   },
   "outputs": [],
   "source": [
    "data = np.array([0.59910553,0.19892384,0.42800147,0.67696757,0.34828451,0.69517928,\n",
    "0.13703289,0.51119015,0.48787451,0.57731085,0.23286820,0.41338543,\n",
    "0.65633721,1.35069021,0.12212476,0.47460029,0.26618002,1.20542218,\n",
    "0.71538627,0.20428730,0.13221638,0.56680370,0.32725263,0.29339787,\n",
    "0.07488558,0.51300380,0.08008302,0.14898439,1.71885703,0.09566642,\n",
    "0.85223586,0.45847046,0.23882542,0.41942143,0.54160489,0.48413253,\n",
    "0.62215659,1.83152943,0.10104083,0.92777223,0.25699445,0.22967180,\n",
    "0.40207172,0.13048873,0.36742793,0.28115245,1.95182640,1.61350926,\n",
    "0.57133538,0.20487397])"
   ]
  },
  {
   "cell_type": "markdown",
   "metadata": {
    "id": "j7O3YfikczlV"
   },
   "source": [
    "Determine whether data has outlier or not using 1.5 IQR rule. \n",
    "\n",
    "**Answer:**\n"
   ]
  },
  {
   "cell_type": "code",
   "execution_count": 88,
   "metadata": {
    "id": "lgXSb-wgdIwD"
   },
   "outputs": [
    {
     "data": {
      "text/plain": [
       "array([1.35069021, 1.20542218, 1.71885703, 1.83152943, 1.9518264 ,\n",
       "       1.61350926])"
      ]
     },
     "execution_count": 88,
     "metadata": {},
     "output_type": "execute_result"
    }
   ],
   "source": [
    "q1 = np.quantile(data,0.25)\n",
    "q3 = np.quantile(data,0.75)\n",
    "iqr = q3-q1 \n",
    "upper = q3 + 1.5*iqr\n",
    "lower = q1 - 1.5*iqr \n",
    "\n",
    "data[np.logical_or(data<lower, data>upper)]"
   ]
  },
  {
   "cell_type": "markdown",
   "metadata": {},
   "source": [
    "**```take``` and ```put```**\n",
    "\n",
    "```np.take``` takes elements from an array along an axis."
   ]
  },
  {
   "cell_type": "code",
   "execution_count": 89,
   "metadata": {},
   "outputs": [],
   "source": [
    "a = np.array([4, 3, 5, 7, 6, 8])"
   ]
  },
  {
   "cell_type": "code",
   "execution_count": 90,
   "metadata": {},
   "outputs": [
    {
     "data": {
      "text/plain": [
       "array([4, 3, 6])"
      ]
     },
     "execution_count": 90,
     "metadata": {},
     "output_type": "execute_result"
    }
   ],
   "source": [
    "indices = [0, 1, 4]\n",
    "np.take(a, indices)"
   ]
  },
  {
   "cell_type": "code",
   "execution_count": 91,
   "metadata": {},
   "outputs": [
    {
     "data": {
      "text/plain": [
       "array([4, 3, 6])"
      ]
     },
     "execution_count": 91,
     "metadata": {},
     "output_type": "execute_result"
    }
   ],
   "source": [
    "a[[0, 1, 4]]"
   ]
  },
  {
   "cell_type": "markdown",
   "metadata": {},
   "source": [
    "For multi-dimensional arrays, you can use ```axis``` argument in function. ```axis = 0 ``` indicates rows, ```axis=1``` indicates columns for 2D arrays. "
   ]
  },
  {
   "cell_type": "code",
   "execution_count": 92,
   "metadata": {},
   "outputs": [
    {
     "data": {
      "text/plain": [
       "array([[ 2,  6,  8],\n",
       "       [ 5, 12, 17]])"
      ]
     },
     "execution_count": 92,
     "metadata": {},
     "output_type": "execute_result"
    }
   ],
   "source": [
    "b  = np.array([[2,6,8],[5,12,17]])\n",
    "b"
   ]
  },
  {
   "cell_type": "code",
   "execution_count": 93,
   "metadata": {},
   "outputs": [
    {
     "data": {
      "text/plain": [
       "array([[ 5, 12, 17]])"
      ]
     },
     "execution_count": 93,
     "metadata": {},
     "output_type": "execute_result"
    }
   ],
   "source": [
    "np.take(b,[1],axis = 0)"
   ]
  },
  {
   "cell_type": "code",
   "execution_count": 94,
   "metadata": {},
   "outputs": [
    {
     "data": {
      "text/plain": [
       "array([[ 6],\n",
       "       [12]])"
      ]
     },
     "execution_count": 94,
     "metadata": {},
     "output_type": "execute_result"
    }
   ],
   "source": [
    "np.take(b,[1],axis = 1)"
   ]
  },
  {
   "cell_type": "markdown",
   "metadata": {},
   "source": [
    "```np.put``` replaces specified elements of an array with given values."
   ]
  },
  {
   "cell_type": "code",
   "execution_count": 95,
   "metadata": {},
   "outputs": [
    {
     "data": {
      "text/plain": [
       "array([4, 3, 5, 7, 6, 8])"
      ]
     },
     "execution_count": 95,
     "metadata": {},
     "output_type": "execute_result"
    }
   ],
   "source": [
    "a "
   ]
  },
  {
   "cell_type": "code",
   "execution_count": 96,
   "metadata": {},
   "outputs": [
    {
     "data": {
      "text/plain": [
       "array([189,   3,   5,   7,   6,   8])"
      ]
     },
     "execution_count": 96,
     "metadata": {},
     "output_type": "execute_result"
    }
   ],
   "source": [
    "np.put(a,[0],189)\n",
    "a"
   ]
  },
  {
   "cell_type": "code",
   "execution_count": 97,
   "metadata": {},
   "outputs": [],
   "source": [
    "a[0] = 189"
   ]
  },
  {
   "cell_type": "markdown",
   "metadata": {
    "id": "cYOBvh82eBPR"
   },
   "source": [
    "### Manipulating Array"
   ]
  },
  {
   "cell_type": "markdown",
   "metadata": {
    "id": "Kn68YfdxdYSu"
   },
   "source": [
    "Apart from computing mathematical functions using arrays, we frequently\n",
    "need to reshape or otherwise manipulate data in arrays. The simplest\n",
    "example of this type of operation is transposing a matrix; to transpose\n",
    "a matrix, simply use the T attribute of an array object.\n",
    "\n",
    "![](http://jalammar.github.io/images/numpy/numpy-transpose.png)"
   ]
  },
  {
   "cell_type": "code",
   "execution_count": 98,
   "metadata": {
    "id": "s7a7yHJJdWxp"
   },
   "outputs": [
    {
     "name": "stdout",
     "output_type": "stream",
     "text": [
      "[[1 2]\n",
      " [3 4]\n",
      " [5 6]]\n",
      "transpose\n",
      " [[1 3 5]\n",
      " [2 4 6]]\n"
     ]
    }
   ],
   "source": [
    "x = np.array([[1, 2], [3, 4], [5, 6]])\n",
    "\n",
    "print(x)\n",
    "print(\"transpose\\n\", x.T)"
   ]
  },
  {
   "cell_type": "code",
   "execution_count": 99,
   "metadata": {
    "id": "hxTSrhUuddJ-"
   },
   "outputs": [
    {
     "name": "stdout",
     "output_type": "stream",
     "text": [
      "[[1 2 3]]\n",
      "transpose\n",
      " [[1]\n",
      " [2]\n",
      " [3]]\n"
     ]
    }
   ],
   "source": [
    "v = np.array([[1,2,3]])\n",
    "print(v )\n",
    "print(\"transpose\\n\", v.T)"
   ]
  },
  {
   "cell_type": "markdown",
   "metadata": {
    "id": "nqlMe7oLdfrE"
   },
   "source": [
    "In more advanced use case, you may find yourself needing to change the\n",
    "dimensions of a certain matrix. This is often the case in machine\n",
    "learning applications where a certain model expects a certain shape for\n",
    "the inputs that is different from your dataset. numpy's `reshape()`\n",
    "method is useful in these cases.\n",
    "\n",
    "![](http://jalammar.github.io/images/numpy/numpy-reshape.png)"
   ]
  },
  {
   "cell_type": "markdown",
   "metadata": {
    "id": "11ItrROydjsa"
   },
   "source": [
    "A common task in this class will be to convert a 1D array to a 2D array,\n",
    "and vice versa. We can use `reshape()` for this.\n",
    "\n",
    "For example, suppose we had this 2D array, but we need to pass it to a\n",
    "function that expects a 1D array."
   ]
  },
  {
   "cell_type": "code",
   "execution_count": 100,
   "metadata": {
    "id": "I0usC9m1di7Z"
   },
   "outputs": [
    {
     "name": "stdout",
     "output_type": "stream",
     "text": [
      "[[1]\n",
      " [2]\n",
      " [3]]\n"
     ]
    },
    {
     "data": {
      "text/plain": [
       "(3, 1)"
      ]
     },
     "execution_count": 100,
     "metadata": {},
     "output_type": "execute_result"
    }
   ],
   "source": [
    "w = np.array([[1],[2],[3]])\n",
    "print(w)\n",
    "w.shape"
   ]
  },
  {
   "cell_type": "markdown",
   "metadata": {
    "id": "qhAi4DEGdrJF"
   },
   "source": [
    "We can remove the “unnecessary” extra dimension with"
   ]
  },
  {
   "cell_type": "code",
   "execution_count": 101,
   "metadata": {
    "id": "F_LC7SUDdqUP"
   },
   "outputs": [
    {
     "name": "stdout",
     "output_type": "stream",
     "text": [
      "[1 2 3]\n"
     ]
    },
    {
     "data": {
      "text/plain": [
       "(3,)"
      ]
     },
     "execution_count": 101,
     "metadata": {},
     "output_type": "execute_result"
    }
   ],
   "source": [
    "y = w.reshape(-1,)\n",
    "print(y)\n",
    "y.shape"
   ]
  },
  {
   "cell_type": "markdown",
   "metadata": {
    "id": "43F0WNQbdwZn"
   },
   "source": []
  },
  {
   "cell_type": "markdown",
   "metadata": {
    "id": "5FD_2Id3dwdx"
   },
   "source": [
    "Note that we can pass -1 as one dimension and numpy will infer the\n",
    "correct size based on our matrix size!\n",
    "\n",
    "There’s also a `squeeze()` function that removes *all* of the\n",
    "“unnecessary” dimensions (dimensions that have size 1) from an array:"
   ]
  },
  {
   "cell_type": "code",
   "execution_count": 102,
   "metadata": {
    "id": "FXRSVWkidfDl"
   },
   "outputs": [
    {
     "name": "stdout",
     "output_type": "stream",
     "text": [
      "[1 2 3]\n"
     ]
    },
    {
     "data": {
      "text/plain": [
       "(3,)"
      ]
     },
     "execution_count": 102,
     "metadata": {},
     "output_type": "execute_result"
    }
   ],
   "source": [
    "z = w.squeeze()\n",
    "print(z)\n",
    "z.shape"
   ]
  },
  {
   "cell_type": "markdown",
   "metadata": {
    "id": "U9QsocVSd0TY"
   },
   "source": [
    "To go from a 1D to 2D array, we can just add in another dimension of\n",
    "size 1:"
   ]
  },
  {
   "cell_type": "code",
   "execution_count": 103,
   "metadata": {
    "id": "-IvFF4TIdzqB"
   },
   "outputs": [
    {
     "data": {
      "text/plain": [
       "array([[1],\n",
       "       [2],\n",
       "       [3]])"
      ]
     },
     "execution_count": 103,
     "metadata": {},
     "output_type": "execute_result"
    }
   ],
   "source": [
    "y.reshape((-1,1))"
   ]
  },
  {
   "cell_type": "markdown",
   "metadata": {},
   "source": [
    "Another common task is to combine multiple arrays and create one array. `concatenate()` function essentially combines NumPy arrays together\n",
    "\n",
    "![image.png](data:image/png;base64,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)"
   ]
  },
  {
   "cell_type": "code",
   "execution_count": 104,
   "metadata": {},
   "outputs": [
    {
     "name": "stdout",
     "output_type": "stream",
     "text": [
      "[[1 2]\n",
      " [3 4]]\n",
      "[[12 30]]\n"
     ]
    }
   ],
   "source": [
    "x=np.array([[1,2],[3,4]])  \n",
    "y=np.array([[12,30]]) \n",
    "print(x)\n",
    "print(y)"
   ]
  },
  {
   "cell_type": "code",
   "execution_count": 105,
   "metadata": {},
   "outputs": [
    {
     "data": {
      "text/plain": [
       "array([[ 1,  2],\n",
       "       [ 3,  4],\n",
       "       [12, 30]])"
      ]
     },
     "execution_count": 105,
     "metadata": {},
     "output_type": "execute_result"
    }
   ],
   "source": [
    "z=np.concatenate((x,y))  \n",
    "z  "
   ]
  },
  {
   "cell_type": "code",
   "execution_count": 106,
   "metadata": {},
   "outputs": [
    {
     "data": {
      "text/plain": [
       "array([[ 1,  2],\n",
       "       [ 3,  4],\n",
       "       [12, 30]])"
      ]
     },
     "execution_count": 106,
     "metadata": {},
     "output_type": "execute_result"
    }
   ],
   "source": [
    "x=np.array([[1,2],[3,4]])  \n",
    "y=np.array([[12,30]])  \n",
    "z=np.concatenate((x,y), axis=0)  \n",
    "z  "
   ]
  },
  {
   "cell_type": "code",
   "execution_count": 107,
   "metadata": {},
   "outputs": [
    {
     "data": {
      "text/plain": [
       "array([[12],\n",
       "       [30]])"
      ]
     },
     "execution_count": 107,
     "metadata": {},
     "output_type": "execute_result"
    }
   ],
   "source": [
    "x=np.array([[1,2],[3,4]])  \n",
    "y=np.array([[12],[30]])  \n",
    "x\n",
    "y"
   ]
  },
  {
   "cell_type": "code",
   "execution_count": 108,
   "metadata": {},
   "outputs": [
    {
     "data": {
      "text/plain": [
       "array([[ 1,  2, 12],\n",
       "       [ 3,  4, 30]])"
      ]
     },
     "execution_count": 108,
     "metadata": {},
     "output_type": "execute_result"
    }
   ],
   "source": [
    "z=np.concatenate((x,y), axis=1)  \n",
    "z  "
   ]
  },
  {
   "cell_type": "code",
   "execution_count": 109,
   "metadata": {},
   "outputs": [
    {
     "data": {
      "text/plain": [
       "array([[ 1,  2, 12],\n",
       "       [ 3,  4, 30]])"
      ]
     },
     "execution_count": 109,
     "metadata": {},
     "output_type": "execute_result"
    }
   ],
   "source": [
    "x=np.array([[1,2],[3,4]])  \n",
    "y=np.array([[12,30]])  \n",
    "z=np.concatenate((x,y.T), axis=1)  #take the transpose to create a column array\n",
    "z  "
   ]
  },
  {
   "cell_type": "markdown",
   "metadata": {},
   "source": [
    "#### **Exercise 6** \n",
    "\n",
    "Write a NumPy program to create to concatenate two given arrays of shape (2, 2) and (2,1). \n",
    "\n",
    "You are free to select the elements. \n",
    "\n",
    "**Answer:**"
   ]
  },
  {
   "cell_type": "code",
   "execution_count": 110,
   "metadata": {},
   "outputs": [
    {
     "name": "stdout",
     "output_type": "stream",
     "text": [
      "Original arrays:\n",
      "[[4.5 3.5]\n",
      " [5.1 2.3]]\n",
      "[[1]\n",
      " [2]]\n",
      "\n",
      "Concatenating the said two arrays:\n",
      "[[4.5 3.5 1. ]\n",
      " [5.1 2.3 2. ]]\n"
     ]
    }
   ],
   "source": [
    "import numpy as np \n",
    "nums1 = np.array([[4.5, 3.5],\n",
    "                 [5.1, 2.3]])\n",
    "nums2 = np.array([[1],\n",
    "                  [2]])\n",
    "print(\"Original arrays:\")\n",
    "print(nums1)\n",
    "print(nums2)\n",
    "print(\"\\nConcatenating the said two arrays:\")\n",
    "print(np.concatenate((nums1, nums2), axis=1))\n"
   ]
  },
  {
   "cell_type": "code",
   "execution_count": null,
   "metadata": {},
   "outputs": [],
   "source": []
  },
  {
   "cell_type": "markdown",
   "metadata": {},
   "source": [
    "**Extra** \n",
    "\n",
    "You can generate integers randomly. "
   ]
  },
  {
   "cell_type": "code",
   "execution_count": 111,
   "metadata": {},
   "outputs": [
    {
     "data": {
      "text/plain": [
       "array([4, 4])"
      ]
     },
     "execution_count": 111,
     "metadata": {},
     "output_type": "execute_result"
    }
   ],
   "source": [
    "np.random.randint(1,5,2) #(min,max,size)"
   ]
  },
  {
   "cell_type": "code",
   "execution_count": 112,
   "metadata": {},
   "outputs": [
    {
     "data": {
      "text/plain": [
       "array([ 3, 10,  9,  5])"
      ]
     },
     "execution_count": 112,
     "metadata": {},
     "output_type": "execute_result"
    }
   ],
   "source": [
    "np.random.randint(3,15,4) #(min,max,size)"
   ]
  },
  {
   "cell_type": "markdown",
   "metadata": {},
   "source": [
    "You can generate same random numbers by using seed. You can write any number in the seed."
   ]
  },
  {
   "cell_type": "code",
   "execution_count": 113,
   "metadata": {},
   "outputs": [
    {
     "data": {
      "text/plain": [
       "array([0.24875591, 0.16306678, 0.78364326, 0.80852339, 0.62562843])"
      ]
     },
     "execution_count": 113,
     "metadata": {},
     "output_type": "execute_result"
    }
   ],
   "source": [
    "np.random.seed(456)\n",
    "np.random.random(5)"
   ]
  },
  {
   "cell_type": "code",
   "execution_count": 114,
   "metadata": {},
   "outputs": [
    {
     "data": {
      "text/plain": [
       "array([0.60411363, 0.8857019 , 0.75911747, 0.18110506, 0.15016932])"
      ]
     },
     "execution_count": 114,
     "metadata": {},
     "output_type": "execute_result"
    }
   ],
   "source": [
    "np.random.random(5)"
   ]
  },
  {
   "cell_type": "code",
   "execution_count": 115,
   "metadata": {},
   "outputs": [
    {
     "data": {
      "text/plain": [
       "array([0.24875591, 0.16306678, 0.78364326, 0.80852339, 0.62562843])"
      ]
     },
     "execution_count": 115,
     "metadata": {},
     "output_type": "execute_result"
    }
   ],
   "source": [
    "np.random.seed(456)\n",
    "np.random.random(5)"
   ]
  }
 ],
 "metadata": {
  "colab": {
   "provenance": [],
   "toc_visible": true
  },
  "kernelspec": {
   "display_name": "Python 3 (ipykernel)",
   "language": "python",
   "name": "python3"
  },
  "language_info": {
   "codemirror_mode": {
    "name": "ipython",
    "version": 3
   },
   "file_extension": ".py",
   "mimetype": "text/x-python",
   "name": "python",
   "nbconvert_exporter": "python",
   "pygments_lexer": "ipython3",
   "version": "3.9.12"
  }
 },
 "nbformat": 4,
 "nbformat_minor": 1
}
